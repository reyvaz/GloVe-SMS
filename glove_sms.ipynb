{
 "cells": [
  {
   "cell_type": "markdown",
   "metadata": {
    "collapsed": true
   },
   "source": [
    "<br>\n",
    "\n",
    "# GloVe Embeddings to filter SMS Spam\n",
    "***Reynaldo Vazquez***  \n",
    "***April, 2018***\n",
    "\n",
    "[GitHub Pages](https://reyvaz.github.io/GloVe-SMS)\n",
    "\n",
    "## Uses GloVe embeddings to filter out spam in text messages\n",
    "\n",
    "\n",
    "It is important to avoid misclassification of legitimate text messages as spam, i.e., it is preferable to let some spam to be misclassified as legitimate than the other way around. However, the ultimate goal of the \"ham vs spam\" problem is to be able to eliminate as much spam as possible, while avoiding misclassification of legitimate messages. Because text messages are mostly not spam, it is typical for a model to achieve high accuracy, even when the model is missclassifying spam messages. **In this analysis, a specification that uses GloVe embeddings on a Support Vector Classifier is able to tag every legitimate message correctly, while filtering out over 99% of spam messages**. \n",
    "\n",
    "The dataset for this analysis  was downloaded from [Kaggle](https://www.kaggle.com/uciml/sms-spam-collection-dataset), and can also be found at the [UCI Machine Learning Repository](https://archive.ics.uci.edu/ml/datasets/SMS+Spam+Collection). Acknowledgements to Tiago A. Almeida and José María Gómez Hidalgo, creators  of the original dataset. More information can be found [here](http://www.dt.fee.unicamp.br/~tiago/smsspamcollection/).\n",
    "\n",
    "The GloVe encodings used are the 50 dimensional, 400K vocabulary from the the `glove.6B.zip`. More information and download link can be found [here](https://nlp.stanford.edu/projects/glove).\n",
    "\n",
    "- `glove_sms_utils.py` can be found [here](https://raw.githubusercontent.com/reyvaz/GloVe-SMS/master/glove_sms_utils.py)\n",
    "- `cm_heat_plots.py` can be found [here](https://raw.githubusercontent.com/reyvaz/GloVe-SMS/master/cm_heat_plots.py)\n",
    "- `spelling_v2.py` can be found [here](https://raw.githubusercontent.com/reyvaz/GloVe-SMS/master/spelling_v2.py)\n",
    "\n",
    "\n",
    "<img src=\"media/sms_png.png\" style=\"width:200px;padding:25px\" align=\"left\">\n",
    "\n",
    "#### Model metrics using GloVe features  on a Support Vector Classifier\n",
    "```\n",
    "               precision   recall   f1-score   \n",
    "   not spam       1.00      1.00      1.00       \n",
    "       spam       1.00      0.99      0.99       \n",
    "        avg       1.00      1.00      1.00      \n",
    "\n",
    "AUC  = 0.993\n",
    "Train Accuracy = 0.998\n",
    "Test Accuracy  = 0.998\n",
    "```"
   ]
  },
  {
   "cell_type": "markdown",
   "metadata": {},
   "source": [
    "### Packages"
   ]
  },
  {
   "cell_type": "code",
   "execution_count": 1,
   "metadata": {},
   "outputs": [],
   "source": [
    "import pandas as pd\n",
    "import numpy as np\n",
    "from sklearn.model_selection import train_test_split\n",
    "from sklearn.metrics import classification_report, accuracy_score, confusion_matrix, roc_auc_score\n",
    "from sklearn.naive_bayes import MultinomialNB\n",
    "from sklearn.svm import SVC, LinearSVC\n",
    "from sklearn.feature_extraction.text import CountVectorizer\n",
    "import matplotlib.pyplot as plt\n",
    "from scipy.sparse import csr_matrix, hstack\n",
    "from cm_heat_plots import *\n",
    "from my_nlp_paths import *\n",
    "from glove_sms_utils import *\n",
    "from spelling_v2 import *\n",
    "import time\n",
    "np.random.seed(1)\n",
    "%matplotlib inline"
   ]
  },
  {
   "cell_type": "markdown",
   "metadata": {},
   "source": [
    "### Dataset"
   ]
  },
  {
   "cell_type": "code",
   "execution_count": 2,
   "metadata": {},
   "outputs": [
    {
     "name": "stdout",
     "output_type": "stream",
     "text": [
      "Dataset shape:  (5572, 2)\n"
     ]
    }
   ],
   "source": [
    "df = pd.read_csv('spam.csv', encoding='latin-1', header=0, \n",
    "                 names = ['target', 'text'], usecols = [0, 1])\n",
    "pd.set_option('display.max_colwidth', 120)\n",
    "print('Dataset shape: ', df.shape)"
   ]
  },
  {
   "cell_type": "markdown",
   "metadata": {},
   "source": [
    "### Transform target variable to dummy"
   ]
  },
  {
   "cell_type": "code",
   "execution_count": 3,
   "metadata": {},
   "outputs": [],
   "source": [
    "df['target'] = np.where(df['target']=='spam',1,0)"
   ]
  },
  {
   "cell_type": "code",
   "execution_count": 4,
   "metadata": {},
   "outputs": [],
   "source": [
    "classes_dict = {0:'not spam', 1:'spam'}"
   ]
  },
  {
   "cell_type": "code",
   "execution_count": 5,
   "metadata": {},
   "outputs": [
    {
     "name": "stdout",
     "output_type": "stream",
     "text": [
      "['not spam', 'spam']\n"
     ]
    }
   ],
   "source": [
    "classes = list(classes_dict.values())\n",
    "print(classes)"
   ]
  },
  {
   "cell_type": "markdown",
   "metadata": {},
   "source": [
    "### GloVe Vector Representations."
   ]
  },
  {
   "cell_type": "code",
   "execution_count": 6,
   "metadata": {},
   "outputs": [],
   "source": [
    "word_to_index, _, word_to_glove = read_glove_vecs(glove_path)"
   ]
  },
  {
   "cell_type": "markdown",
   "metadata": {},
   "source": [
    "### Spelling corrector and word mapping"
   ]
  },
  {
   "cell_type": "code",
   "execution_count": 7,
   "metadata": {},
   "outputs": [
    {
     "name": "stdout",
     "output_type": "stream",
     "text": [
      "'articifial' has been replaced with 'artificial'\n",
      "the index of 'artificial' is 60401\n"
     ]
    }
   ],
   "source": [
    "word = \"articifial\"\n",
    "corrected_word = correction(word)\n",
    "print(\"'\" + word + \"'\" + \" has been replaced with \" + \"'\" + corrected_word + \"'\")\n",
    "print(\"the index of \" + \"'\" + corrected_word + \"'\" +  \" is \" + str(word_to_index[corrected_word]))"
   ]
  },
  {
   "cell_type": "code",
   "execution_count": 8,
   "metadata": {},
   "outputs": [],
   "source": [
    "# loads, or fixes word misspellings of df['text'] to run over the Glove encoder\n",
    "if os.path.isfile(\"data/sms_corrected.csv\"):\n",
    "    sms_corrected = pd.read_csv(\"data/sms_corrected.csv\", sep=',', skip_blank_lines = False)\n",
    "    keep_index = np.array(sms_corrected.iloc[:,0].notnull())\n",
    "else:\n",
    "    sms_corrected = correct_list(df['text'])\n",
    "    sms_corrected =  pd.DataFrame(sms_corrected)\n",
    "    keep_index = np.array(sms_corrected.iloc[:,0] != '')\n",
    "    # time consuming, save once created\n",
    "    sms_corrected.to_csv(\"data/sms_corrected.csv\", sep=',', index = False)"
   ]
  },
  {
   "cell_type": "code",
   "execution_count": 9,
   "metadata": {},
   "outputs": [
    {
     "name": "stdout",
     "output_type": "stream",
     "text": [
      "2 rows not able to be GloVe encoded will be removed\n"
     ]
    }
   ],
   "source": [
    "print(sum(keep_index == False), \"rows not able to be GloVe encoded will be removed\")"
   ]
  },
  {
   "cell_type": "code",
   "execution_count": 10,
   "metadata": {},
   "outputs": [],
   "source": [
    "data = df[keep_index].reset_index()\n",
    "sms_corrected = sms_corrected[keep_index]"
   ]
  },
  {
   "cell_type": "markdown",
   "metadata": {},
   "source": [
    "### Encode messages with their Glove embeddings means"
   ]
  },
  {
   "cell_type": "code",
   "execution_count": 11,
   "metadata": {},
   "outputs": [],
   "source": [
    "def sen2average(sentence, word_to_glove = word_to_glove):\n",
    "    \"\"\"\n",
    "    Encodes the meaning of a sentence by averaging representation vectors.\n",
    "    \n",
    "    Args:\n",
    "        sentence: a sentence (string)\n",
    "        word_to_glove: dictionary mapping words into their n-dimensional vector representation\n",
    "    Returns:\n",
    "        average: vector with the meaning of the sentence enconded\n",
    "    \"\"\"\n",
    "    words = sentence.split()\n",
    "    average = sum([word_to_glove[w] for w in words])/len(words)\n",
    "    return average"
   ]
  },
  {
   "cell_type": "code",
   "execution_count": 12,
   "metadata": {},
   "outputs": [
    {
     "data": {
      "text/plain": [
       "(5570, 50)"
      ]
     },
     "execution_count": 12,
     "metadata": {},
     "output_type": "execute_result"
    }
   ],
   "source": [
    "sms_corrected = np.array(sms_corrected.iloc[:,0])\n",
    "sms_glove_means = np.array([sen2average(sentence) for sentence in sms_corrected])\n",
    "sms_glove_means.shape"
   ]
  },
  {
   "cell_type": "code",
   "execution_count": 13,
   "metadata": {},
   "outputs": [],
   "source": [
    "X_glove_means = pd.DataFrame(sms_glove_means)"
   ]
  },
  {
   "cell_type": "code",
   "execution_count": 14,
   "metadata": {},
   "outputs": [],
   "source": [
    "data = pd.concat([data, X_glove_means], axis = 1)"
   ]
  },
  {
   "cell_type": "code",
   "execution_count": 15,
   "metadata": {},
   "outputs": [],
   "source": [
    "Y = data['target']\n",
    "X = data.copy()\n",
    "X.drop(['index', 'target'], axis=1, inplace = True)"
   ]
  },
  {
   "cell_type": "code",
   "execution_count": 16,
   "metadata": {},
   "outputs": [
    {
     "name": "stdout",
     "output_type": "stream",
     "text": [
      "Fraction spam in full dataset: 0.1341113105924596\n"
     ]
    }
   ],
   "source": [
    "print('Fraction spam in full dataset:', Y.mean())"
   ]
  },
  {
   "cell_type": "markdown",
   "metadata": {},
   "source": [
    "### Split dataset into training and testing"
   ]
  },
  {
   "cell_type": "code",
   "execution_count": 17,
   "metadata": {},
   "outputs": [
    {
     "name": "stdout",
     "output_type": "stream",
     "text": [
      "X_train shape: (4570, 51)\n",
      "Y_train shape: (4570,)\n",
      "Fraction spam in train dataset: 0.13216630196936544\n"
     ]
    }
   ],
   "source": [
    "X_train, X_test, Y_train, Y_test = train_test_split(X, Y, random_state = 0, test_size=1000)\n",
    "print('X_train shape:', X_train.shape)\n",
    "print('Y_train shape:', Y_train.shape)\n",
    "print('Fraction spam in train dataset:', Y_train.mean())"
   ]
  },
  {
   "cell_type": "markdown",
   "metadata": {},
   "source": [
    "Separate the text from the vectors in the features sets, they need to be processed differently"
   ]
  },
  {
   "cell_type": "code",
   "execution_count": 18,
   "metadata": {},
   "outputs": [],
   "source": [
    "X_train_text = X_train['text']\n",
    "X_train_vec  = X_train.iloc[:, 1:]\n",
    "X_test_text  = X_test['text']\n",
    "X_test_vec   = X_test.iloc[:, 1:]"
   ]
  },
  {
   "cell_type": "markdown",
   "metadata": {},
   "source": [
    "### Training and reporting function\n",
    "Will train and return the trained specified model. Will print model preformance metrics."
   ]
  },
  {
   "cell_type": "code",
   "execution_count": 19,
   "metadata": {},
   "outputs": [],
   "source": [
    "def run_model(X_train, Y_train, X_test, Y_test, model, classes_dict = classes_dict):\n",
    "    \"\"\"\n",
    "    Trains the specified model, calculates predictions, and returns and prints the\n",
    "    classification report and accuracy metric.\n",
    "    \"\"\"\n",
    "    print(\"Model:\", str(model).split(\"(\")[0], \"\\n\")\n",
    "    start_time = time.time()\n",
    "    trained_model = model.fit(X_train, Y_train)\n",
    "    elapsed_time = time.time() - start_time\n",
    "    predicted_Y_test = trained_model.predict(X_test)\n",
    "    predicted_Y_train = trained_model.predict(X_train)\n",
    "    print(\"Classification report on test set \\n\")\n",
    "    pred_activity = [classes_dict[label] for label in predicted_Y_test]\n",
    "    actual_activity = [classes_dict[label] for label in Y_test]\n",
    "    report = classification_report(actual_activity, pred_activity)\n",
    "    train_acc = accuracy_score(Y_train, predicted_Y_train)\n",
    "    test_acc = accuracy_score(Y_test, predicted_Y_test)\n",
    "    auc  = roc_auc_score(Y_test, predicted_Y_test)\n",
    "    print(report)\n",
    "    print(\"AUC  =\", str(format(auc, '.3f')))\n",
    "    print(\"Train Accuracy =\", str(format(train_acc, '.3f')))\n",
    "    print(\"Test Accuracy  =\", str(format(test_acc, '.3f')))\n",
    "    print(\"Training time:\", int(elapsed_time), \"seconds\")\n",
    "    return trained_model, report"
   ]
  },
  {
   "cell_type": "markdown",
   "metadata": {},
   "source": [
    "### Benchmarks\n",
    "Will train: \n",
    "- **Multinomial Naive Bayes** with all the words in the training set as features, and no extra features. This was one of the 2 best performing specifications in a previous analysis\n",
    "- **Linear Support Vector** with the same features just described. For comparison, this model will be enhanced with the Glove features."
   ]
  },
  {
   "cell_type": "code",
   "execution_count": 20,
   "metadata": {},
   "outputs": [],
   "source": [
    "vect1 = CountVectorizer().fit(X_train_text)\n",
    "X_train1 = vect1.transform(X_train_text)\n",
    "X_test1 = vect1.transform(X_test_text)"
   ]
  },
  {
   "cell_type": "code",
   "execution_count": 21,
   "metadata": {},
   "outputs": [
    {
     "name": "stdout",
     "output_type": "stream",
     "text": [
      "Model: MultinomialNB \n",
      "\n",
      "Classification report on test set \n",
      "\n",
      "             precision    recall  f1-score   support\n",
      "\n",
      "   not spam       0.99      1.00      0.99       857\n",
      "       spam       0.97      0.96      0.96       143\n",
      "\n",
      "avg / total       0.99      0.99      0.99      1000\n",
      "\n",
      "AUC  = 0.977\n",
      "Train Accuracy = 0.996\n",
      "Test Accuracy  = 0.990\n",
      "Training time: 0 seconds\n"
     ]
    }
   ],
   "source": [
    "mnb = MultinomialNB(alpha=0.1)\n",
    "mnb_trained, _ = run_model(X_train1, Y_train, X_test1, Y_test, mnb)"
   ]
  },
  {
   "cell_type": "code",
   "execution_count": 22,
   "metadata": {},
   "outputs": [
    {
     "name": "stdout",
     "output_type": "stream",
     "text": [
      "Model: LinearSVC \n",
      "\n",
      "Classification report on test set \n",
      "\n",
      "             precision    recall  f1-score   support\n",
      "\n",
      "   not spam       0.98      1.00      0.99       857\n",
      "       spam       0.98      0.88      0.93       143\n",
      "\n",
      "avg / total       0.98      0.98      0.98      1000\n",
      "\n",
      "AUC  = 0.939\n",
      "Train Accuracy = 1.000\n",
      "Test Accuracy  = 0.980\n",
      "Training time: 0 seconds\n"
     ]
    }
   ],
   "source": [
    "from sklearn.svm import LinearSVC\n",
    "lsvc_1 = LinearSVC(C = 100, penalty = 'l1', tol = 1e-6, dual = False, random_state = 0)\n",
    "lsvc_1_trained, _ = run_model(X_train1, Y_train, X_test1, Y_test, lsvc_1)"
   ]
  },
  {
   "cell_type": "markdown",
   "metadata": {},
   "source": [
    "### Adding New Features"
   ]
  },
  {
   "cell_type": "code",
   "execution_count": 23,
   "metadata": {},
   "outputs": [],
   "source": [
    "# indexes of ham and spam in training set for additional feature search\n",
    "ham  = [i for i, x in enumerate(Y_train == 0) if x]\n",
    "spam = [i for i, x in enumerate(Y_train == 1) if x]"
   ]
  },
  {
   "cell_type": "markdown",
   "metadata": {},
   "source": [
    "#### Message Lenghts (Number of Characters) between Ham and Spam"
   ]
  },
  {
   "cell_type": "code",
   "execution_count": 24,
   "metadata": {},
   "outputs": [
    {
     "name": "stdout",
     "output_type": "stream",
     "text": [
      "Average Length \n",
      "Not Spam:   70.74457892082702 chars \n",
      "Spam:  139.1937086092715 chars\n"
     ]
    }
   ],
   "source": [
    "doc_lengths_train = np.array([len(d) for d in X_train_text])\n",
    "mean_len_ham = np.mean(doc_lengths_train[ham])\n",
    "mean_len_spam = np.mean(doc_lengths_train[spam])\n",
    "print('Average Length', '\\nNot Spam:  ', mean_len_ham, 'chars',\n",
    "      '\\nSpam: ', mean_len_spam, 'chars')"
   ]
  },
  {
   "cell_type": "markdown",
   "metadata": {},
   "source": [
    "#### Digit Counts between Ham and Spam"
   ]
  },
  {
   "cell_type": "code",
   "execution_count": 25,
   "metadata": {},
   "outputs": [
    {
     "name": "stdout",
     "output_type": "stream",
     "text": [
      "Average digit counts \n",
      "Not Spam:   0.3015632879475542 digits \n",
      "Spam:  15.46523178807947 digits\n"
     ]
    }
   ],
   "source": [
    "digits_train = X_train_text.str.findall('\\d')\n",
    "dig_counts_train = np.array([len(d) for d in digits_train])\n",
    "mean_dig_ham = np.mean(dig_counts_train[ham])\n",
    "mean_dig_spam = np.mean(dig_counts_train[spam])\n",
    "print('Average digit counts', '\\nNot Spam:  ', mean_dig_ham, 'digits',\n",
    "      '\\nSpam: ', mean_dig_spam, 'digits')"
   ]
  },
  {
   "cell_type": "markdown",
   "metadata": {},
   "source": [
    "#### Non-Alphanumeric Characters between Ham and Spam"
   ]
  },
  {
   "cell_type": "code",
   "execution_count": 26,
   "metadata": {},
   "outputs": [
    {
     "name": "stdout",
     "output_type": "stream",
     "text": [
      "Average non-alnum char counts \n",
      "Not Spam:   17.240544629349472 non-alnum chars \n",
      "Spam:  29.13907284768212 non-alnum chars\n"
     ]
    }
   ],
   "source": [
    "non_alnum_train = X_train_text.str.findall('\\W')\n",
    "non_alnum_counts_train = np.array([len(d) for d in non_alnum_train])\n",
    "mean_nw_ham = np.mean(non_alnum_counts_train[ham])\n",
    "mean_nw_spam = np.mean(non_alnum_counts_train[spam])\n",
    "print('Average non-alnum char counts', '\\nNot Spam:  ', mean_nw_ham, 'non-alnum chars',\n",
    "      '\\nSpam: ', mean_nw_spam, 'non-alnum chars')"
   ]
  },
  {
   "cell_type": "markdown",
   "metadata": {},
   "source": [
    "The three features, length, digit count, non-alnum count will be added to the model"
   ]
  },
  {
   "cell_type": "code",
   "execution_count": 27,
   "metadata": {},
   "outputs": [],
   "source": [
    "def spec2_features(X_orig):\n",
    "    \"\"\"\n",
    "    Calculates the new features for a new (i.e. test) set\n",
    "    \"\"\"\n",
    "    doc_lengths = np.array([len(d) for d in X_orig])\n",
    "\n",
    "    digits = X_orig.str.findall('\\d')\n",
    "    dig_counts = np.array([len(d) for d in digits])\n",
    "\n",
    "    non_alnum = X_orig.str.findall('\\W')\n",
    "    non_alnum_counts = np.array([len(d) for d in non_alnum])\n",
    "    return doc_lengths, dig_counts, non_alnum_counts\n",
    "\n",
    "doc_lengths_test, dig_counts_test, non_alnum_counts_test = spec2_features(X_test_text)"
   ]
  },
  {
   "cell_type": "code",
   "execution_count": 28,
   "metadata": {},
   "outputs": [],
   "source": [
    "# Adds additional features to the sparse matrix feature sets\n",
    "def add_features(X_sparse, new_features):\n",
    "    \"\"\"\n",
    "    Returns sparse feature matrix with new feature(s) added.\n",
    "    new_features can be one new feature or a list of features.\n",
    "    \"\"\"\n",
    "    return hstack([X_sparse, csr_matrix(new_features).T], 'csr')\n",
    "\n",
    "def transform_X(X, new_features, vect):\n",
    "    X_sparse  = vect.transform(X)\n",
    "    X_transformed = add_features(X_sparse, new_features)\n",
    "    return X_transformed"
   ]
  },
  {
   "cell_type": "markdown",
   "metadata": {},
   "source": [
    "### New Features Specification: \n",
    "\n",
    "* 2 to 5 character ngrams as features\n",
    "* Ignore terms that have a document frequency strictly lower than 3  \n",
    "* Add text lenght, digit count, and non-alphanumeric character count as features\n",
    "* Add the GloVe average meanings vectors"
   ]
  },
  {
   "cell_type": "code",
   "execution_count": 29,
   "metadata": {},
   "outputs": [],
   "source": [
    "vect2 = CountVectorizer(min_df=3, ngram_range=(2,5), analyzer='char_wb').fit(X_train_text)\n",
    "# Convert vectors of vectors into lists of vectors to add to sparse matrix\n",
    "X_train_vec_list = list(np.array(X_train_vec).T)\n",
    "X_test_vec_list = list(np.array(X_test_vec).T)\n",
    "new_features_train = [doc_lengths_train, dig_counts_train, non_alnum_counts_train] +  X_train_vec_list\n",
    "X_train2 = transform_X(X_train_text, new_features_train, vect2)\n",
    "new_features_test = [doc_lengths_test, dig_counts_test, non_alnum_counts_test] + X_test_vec_list\n",
    "X_test2 = transform_X(X_test_text, new_features_test, vect2)"
   ]
  },
  {
   "cell_type": "code",
   "execution_count": 30,
   "metadata": {},
   "outputs": [
    {
     "name": "stdout",
     "output_type": "stream",
     "text": [
      "Model: LinearSVC \n",
      "\n",
      "Classification report on test set \n",
      "\n",
      "             precision    recall  f1-score   support\n",
      "\n",
      "   not spam       1.00      1.00      1.00       857\n",
      "       spam       0.99      0.99      0.99       143\n",
      "\n",
      "avg / total       1.00      1.00      1.00      1000\n",
      "\n",
      "AUC  = 0.992\n",
      "Train Accuracy = 1.000\n",
      "Test Accuracy  = 0.997\n",
      "Training time: 2 seconds\n"
     ]
    }
   ],
   "source": [
    "lsvc_2 = LinearSVC(C = 100, penalty = 'l1', tol = 1e-6, dual = False, random_state = 0)\n",
    "lsvc_2_trained, _ = run_model(X_train2, Y_train, X_test2, Y_test, lsvc_2)"
   ]
  },
  {
   "cell_type": "code",
   "execution_count": 31,
   "metadata": {},
   "outputs": [
    {
     "name": "stdout",
     "output_type": "stream",
     "text": [
      "Model: SVC \n",
      "\n",
      "Classification report on test set \n",
      "\n",
      "             precision    recall  f1-score   support\n",
      "\n",
      "   not spam       1.00      1.00      1.00       857\n",
      "       spam       1.00      0.99      0.99       143\n",
      "\n",
      "avg / total       1.00      1.00      1.00      1000\n",
      "\n",
      "AUC  = 0.993\n",
      "Train Accuracy = 0.998\n",
      "Test Accuracy  = 0.998\n",
      "Training time: 2 seconds\n"
     ]
    }
   ],
   "source": [
    "svc = SVC(C = 100, random_state = 0)\n",
    "svc_trained, _ = run_model(X_train2, Y_train, X_test2, Y_test, svc)"
   ]
  },
  {
   "cell_type": "markdown",
   "metadata": {},
   "source": [
    "### Features with large (absolute) coefficients"
   ]
  },
  {
   "cell_type": "code",
   "execution_count": 32,
   "metadata": {},
   "outputs": [],
   "source": [
    "coefficients = lsvc_2_trained.coef_[0]\n",
    "# need to concatenate the added features names to the .get_feature_names() output\n",
    "orig_names = np.array(vect2.get_feature_names())\n",
    "glove_names = ['glov'+ str(g) for g in range(X_train_vec.shape[1])]\n",
    "added_names = [\"doc_lengths\", \"dig_counts\", \"non_alnums\"] + glove_names\n",
    "added_names = np.array(added_names)\n",
    "feature_names = np.concatenate((orig_names, added_names))"
   ]
  },
  {
   "cell_type": "code",
   "execution_count": 33,
   "metadata": {},
   "outputs": [],
   "source": [
    "features = infl_features_non_tr(coefficients, feature_names, num_features = 12)"
   ]
  },
  {
   "cell_type": "code",
   "execution_count": 34,
   "metadata": {},
   "outputs": [
    {
     "name": "stdout",
     "output_type": "stream",
     "text": [
      "\n",
      "\n"
     ]
    },
    {
     "data": {
      "image/png": "[encoded data removed]",
      "text/plain": [
       "<matplotlib.figure.Figure at 0x1a0a866630>"
      ]
     },
     "metadata": {},
     "output_type": "display_data"
    },
    {
     "name": "stdout",
     "output_type": "stream",
     "text": [
      "\n",
      "\n"
     ]
    }
   ],
   "source": [
    "plot_features(features, 'Linear SVC', classes = classes, label_rotation = 20, cmap = plt.cm.Blues)"
   ]
  },
  {
   "cell_type": "markdown",
   "metadata": {},
   "source": [
    "### Prediction Time and Confusion Matrix"
   ]
  },
  {
   "cell_type": "code",
   "execution_count": 35,
   "metadata": {},
   "outputs": [
    {
     "name": "stdout",
     "output_type": "stream",
     "text": [
      "Time to calculate 1000 predictions with MultinomialNB model: 0.0014 seconds\n"
     ]
    }
   ],
   "source": [
    "mnb_predictions = predict_and_time(mnb_trained, X_test1)"
   ]
  },
  {
   "cell_type": "code",
   "execution_count": 36,
   "metadata": {},
   "outputs": [
    {
     "data": {
      "image/png": "[encoded data removed]",
      "text/plain": [
       "<matplotlib.figure.Figure at 0x1a0abc0c88>"
      ]
     },
     "metadata": {},
     "output_type": "display_data"
    }
   ],
   "source": [
    "cm_mnb = confusion_matrix(Y_test, mnb_predictions)\n",
    "heated_confusion_matrix(cm = cm_mnb, labels = classes, cmap = plt.cm.PuRd, \n",
    "                        contrast = 2, model_name = \"Multinomial Naive Bayes\", \n",
    "                        p_size = 5.5)"
   ]
  },
  {
   "cell_type": "code",
   "execution_count": 37,
   "metadata": {},
   "outputs": [
    {
     "name": "stdout",
     "output_type": "stream",
     "text": [
      "Time to calculate 1000 predictions with SVC model: 0.7633 seconds\n"
     ]
    }
   ],
   "source": [
    "svc_predictions = predict_and_time(svc_trained, X_test2)"
   ]
  },
  {
   "cell_type": "code",
   "execution_count": 38,
   "metadata": {},
   "outputs": [
    {
     "data": {
      "image/png": "[encoded data removed]",
      "text/plain": [
       "<matplotlib.figure.Figure at 0x1a0ac4c630>"
      ]
     },
     "metadata": {},
     "output_type": "display_data"
    }
   ],
   "source": [
    "cm_svc = confusion_matrix(Y_test, svc_predictions)\n",
    "heated_confusion_matrix(cm = cm_svc, labels = classes, cmap = plt.cm.Blues, \n",
    "                        contrast = 2, model_name = \"Support Vector Classifier\", \n",
    "                        p_size = 5.5, save_fig = False)"
   ]
  },
  {
   "cell_type": "markdown",
   "metadata": {},
   "source": [
    "#### See the mislabeled messages (spam mislabeled as not spam)"
   ]
  },
  {
   "cell_type": "code",
   "execution_count": 39,
   "metadata": {},
   "outputs": [
    {
     "name": "stdout",
     "output_type": "stream",
     "text": [
      "You have an important customer service announcement from PREMIER.\n",
      "\n",
      "Latest News! Police station toilet stolen, cops have nothing to go on!\n"
     ]
    }
   ],
   "source": [
    "print('\\n\\n'.join(X_test_text[(Y_test != svc_predictions)]))"
   ]
  },
  {
   "cell_type": "markdown",
   "metadata": {},
   "source": [
    "### Conclusion\n",
    "\n",
    "The Support Vector Classifier on ngrams, the three quantitative features, and the GloVe average meanings encodings performs better than the benchmark by most metrics, and at least as well by all metrics (excluding training and prediction time). Although the improvements seem small, it achieves the goal of not mistagging legitimate messages, while nearly eliminating all spam. "
   ]
  },
  {
   "cell_type": "markdown",
   "metadata": {},
   "source": [
    "### Reference\n",
    "\n",
    "**Almeida, T.A., Gómez Hidalgo, J.M., Yamakami, A.** Contributions to the Study of SMS Spam Filtering: New Collection and Results.  Proceedings of the 2011 ACM Symposium on Document Engineering (DOCENG'11), Mountain View, CA, USA, 2011. [http://www.dt.fee.unicamp.br/~tiago//smsspamcollection](http://www.dt.fee.unicamp.br/~tiago//smsspamcollection)."
   ]
  }
 ],
 "metadata": {
  "kernelspec": {
   "display_name": "Python 3",
   "language": "python",
   "name": "python3"
  },
  "language_info": {
   "codemirror_mode": {
    "name": "ipython",
    "version": 3
   },
   "file_extension": ".py",
   "mimetype": "text/x-python",
   "name": "python",
   "nbconvert_exporter": "python",
   "pygments_lexer": "ipython3",
   "version": "3.6.4"
  }
 },
 "nbformat": 4,
 "nbformat_minor": 2
}
